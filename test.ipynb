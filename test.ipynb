{
  "nbformat": 4,
  "nbformat_minor": 0,
  "metadata": {
    "colab": {
      "provenance": [],
      "gpuType": "T4",
      "include_colab_link": true
    },
    "kernelspec": {
      "name": "python3",
      "display_name": "Python 3"
    },
    "language_info": {
      "name": "python"
    },
    "accelerator": "GPU"
  },
  "cells": [
    {
      "cell_type": "markdown",
      "metadata": {
        "id": "view-in-github",
        "colab_type": "text"
      },
      "source": [
        "<a href=\"https://colab.research.google.com/github/taravatp/Multi_Spectral_Image_Segmentation/blob/main/test.ipynb\" target=\"_parent\"><img src=\"https://colab.research.google.com/assets/colab-badge.svg\" alt=\"Open In Colab\"/></a>"
      ]
    },
    {
      "cell_type": "code",
      "execution_count": null,
      "metadata": {
        "id": "4ZEDEBge3Ala"
      },
      "outputs": [],
      "source": [
        "!pip install import_ipynb"
      ]
    },
    {
      "cell_type": "code",
      "source": [
        "!pip install ml_collections"
      ],
      "metadata": {
        "id": "HC5ZavCX3GK5"
      },
      "execution_count": null,
      "outputs": []
    },
    {
      "cell_type": "code",
      "source": [
        "cd /content/drive/MyDrive/Vision_Impulse_Task"
      ],
      "metadata": {
        "colab": {
          "base_uri": "https://localhost:8080/"
        },
        "id": "ZQME_kog3H20",
        "outputId": "b7a3dfc0-813c-42ce-fc99-4273358667c2"
      },
      "execution_count": null,
      "outputs": [
        {
          "output_type": "stream",
          "name": "stdout",
          "text": [
            "/content/drive/MyDrive/Vision_Impulse_Task\n"
          ]
        }
      ]
    },
    {
      "cell_type": "code",
      "source": [
        "import torch\n",
        "import torch.nn as nn\n",
        "import import_ipynb\n",
        "\n",
        "import matplotlib.pyplot as plt\n",
        "import numpy as np\n",
        "import cv2\n",
        "import time\n",
        "import pickle\n",
        "from sklearn.metrics import cohen_kappa_score, accuracy_score, f1_score"
      ],
      "metadata": {
        "id": "JgZUFvC13WmC"
      },
      "execution_count": null,
      "outputs": []
    },
    {
      "cell_type": "code",
      "source": [
        "import vit_seg_configs as configs\n",
        "from transunet import Trans_Unet\n",
        "from MSI_dataset import MSI_data\n",
        "from Unet import unet\n",
        "from Efficient_Network import ENet"
      ],
      "metadata": {
        "id": "bCIbuwkd3Ry0"
      },
      "execution_count": null,
      "outputs": []
    },
    {
      "cell_type": "code",
      "source": [
        "device = 'cuda' if torch.cuda.is_available() else 'cpu'\n",
        "print(device)"
      ],
      "metadata": {
        "colab": {
          "base_uri": "https://localhost:8080/"
        },
        "id": "l3U76fB13vjn",
        "outputId": "d8bbf43b-87d5-47b5-8f0f-2c636af0ba5c"
      },
      "execution_count": null,
      "outputs": [
        {
          "output_type": "stream",
          "name": "stdout",
          "text": [
            "cuda\n"
          ]
        }
      ]
    },
    {
      "cell_type": "markdown",
      "source": [
        "# Creating Test Dataloader"
      ],
      "metadata": {
        "id": "ikNwOuFN3dat"
      }
    },
    {
      "cell_type": "code",
      "source": [
        "BATCHSIZE = 16\n",
        "test_data = MSI_data(flag='test')\n",
        "test_dataloader = torch.utils.data.DataLoader(test_data,batch_size=BATCHSIZE,shuffle=True)"
      ],
      "metadata": {
        "id": "IKJT9o4a3aeg"
      },
      "execution_count": null,
      "outputs": []
    },
    {
      "cell_type": "markdown",
      "source": [
        "# Evaluation metrics"
      ],
      "metadata": {
        "id": "8HRTBXvp3ok6"
      }
    },
    {
      "cell_type": "code",
      "source": [
        "def evaluate(ground_truth,predicted_labels):\n",
        "\n",
        "  num_classes = 3\n",
        "  class_labels = list(range(num_classes))\n",
        "\n",
        "  # Flatten the tensors for calculation\n",
        "  ground_truth = ground_truth.view(-1).cpu()\n",
        "\n",
        "  predicted_labels = torch.softmax(predicted_labels, dim=1)\n",
        "  _ , predicted_labels = torch.max(predicted_labels, dim=1)\n",
        "  predicted_labels = predicted_labels.view(-1).cpu()\n",
        "\n",
        "  overall_accuracy = accuracy_score(ground_truth, predicted_labels)\n",
        "  f1 = f1_score(ground_truth, predicted_labels, labels=class_labels, average='weighted')\n",
        "  kappa = cohen_kappa_score(ground_truth, predicted_labels, labels=class_labels)\n",
        "\n",
        "  confusion_matrix = np.zeros((num_classes, num_classes), dtype=np.uint64)\n",
        "  for t, p in zip(ground_truth, predicted_labels):\n",
        "      confusion_matrix[int(t), int(p)] += 1\n",
        "  intersection = np.diag(confusion_matrix)\n",
        "  union = (confusion_matrix.sum(1) + confusion_matrix.sum(0) - intersection)\n",
        "  iou = intersection / union.astype(np.float32)\n",
        "  miou = np.mean(iou)\n",
        "\n",
        "  return overall_accuracy, f1, kappa, miou"
      ],
      "metadata": {
        "id": "stvpXOMG32P_"
      },
      "execution_count": null,
      "outputs": []
    },
    {
      "cell_type": "markdown",
      "source": [
        "# Loading models"
      ],
      "metadata": {
        "id": "0_G6xb_H36BF"
      }
    },
    {
      "cell_type": "code",
      "source": [
        "unet = unet().to(device)\n",
        "enet = ENet(num_classes=3, in_channels=12).to(device)\n",
        "\n",
        "CONFIGS = {\n",
        "    'ViT-B_16': configs.get_b16_config(),\n",
        "    'ViT-B_32': configs.get_b32_config(),\n",
        "    'ViT-L_16': configs.get_l16_config(),\n",
        "    'ViT-L_32': configs.get_l32_config(),\n",
        "    'ViT-H_14': configs.get_h14_config(),\n",
        "    'R50-ViT-B_16': configs.get_r50_b16_config(),\n",
        "    'R50-ViT-L_16': configs.get_r50_l16_config(),\n",
        "    'testing': configs.get_testing(),\n",
        "}\n",
        "\n",
        "config = CONFIGS['ViT-B_16']\n",
        "simple_transunet = Trans_Unet(config).to(device)\n",
        "finetuned_transunet = Trans_Unet(config).to(device)\n",
        "adversarial_transunet = Trans_Unet(config).to(device)"
      ],
      "metadata": {
        "id": "wUSwWAA53jzs"
      },
      "execution_count": null,
      "outputs": []
    },
    {
      "cell_type": "code",
      "source": [
        "unet.load_state_dict(torch.load('models/unet_batch329.pth'))\n",
        "enet.load_state_dict(torch.load('models/unet_batch329.pth'))\n",
        "simple_transunet.load_state_dict(torch.load('models/transUNET9.pth'))\n",
        "finetuned_transunet.load_state_dict(torch.load('models/transunet_finetuning9.pth'))\n",
        "adversarial_transunet.load_state_dict(torch.load('models/TranUNet_GAN_9.pth'))"
      ],
      "metadata": {
        "colab": {
          "base_uri": "https://localhost:8080/"
        },
        "id": "_fld-Bxg3__u",
        "outputId": "151e1e92-646c-499b-df79-c34d900ddfd4"
      },
      "execution_count": null,
      "outputs": [
        {
          "output_type": "execute_result",
          "data": {
            "text/plain": [
              "<All keys matched successfully>"
            ]
          },
          "metadata": {},
          "execution_count": 44
        }
      ]
    },
    {
      "cell_type": "markdown",
      "source": [
        "# Test function"
      ],
      "metadata": {
        "id": "s2HYlNis4QBQ"
      }
    },
    {
      "cell_type": "code",
      "source": [
        "def test(model,test_dataloader):\n",
        "\n",
        "  total_accuracy = 0\n",
        "  total_f1 = 0\n",
        "  total_koppa = 0\n",
        "  total_miou = 0\n",
        "\n",
        "\n",
        "  # model.eval()\n",
        "  for iter,batch in enumerate(test_dataloader):\n",
        "\n",
        "    input_image,target_image = batch[0].to(device), batch[1].to(device)\n",
        "    target_image = torch.squeeze(target_image).long()\n",
        "    prediction = model(input_image)\n",
        "\n",
        "    accuracy, f1, kappa, miou = evaluate(target_image,prediction)\n",
        "    total_accuracy += accuracy\n",
        "    total_f1 += f1\n",
        "    total_koppa += kappa\n",
        "    total_miou += miou\n",
        "\n",
        "  total_accuracy = total_accuracy/len(test_dataloader)\n",
        "  total_f1 = total_f1/len(test_dataloader)\n",
        "  total_koppa = total_koppa/len(test_dataloader)\n",
        "  total_miou = total_miou/len(test_dataloader)\n",
        "\n",
        "  return total_accuracy, total_f1, total_koppa, total_miou"
      ],
      "metadata": {
        "id": "lzn69xgb4S_J"
      },
      "execution_count": null,
      "outputs": []
    },
    {
      "cell_type": "markdown",
      "source": [
        "# Testing UNet"
      ],
      "metadata": {
        "id": "ODzY7nbK5fQc"
      }
    },
    {
      "cell_type": "code",
      "source": [
        "accuracy, f1, koppa, miou = test(unet,test_dataloader)\n",
        "print('accuracy:',accuracy)\n",
        "print('f1 score:',f1)\n",
        "print('Koppa',koppa)\n",
        "print('MIOU:',miou)"
      ],
      "metadata": {
        "colab": {
          "base_uri": "https://localhost:8080/"
        },
        "id": "Y0aHVNnm5ULn",
        "outputId": "8de775a0-c140-4a32-efe3-10a130a2e979"
      },
      "execution_count": null,
      "outputs": [
        {
          "output_type": "stream",
          "name": "stdout",
          "text": [
            "accuracy: 0.8898595645103925\n",
            "f1 score: 0.8898787464765322\n",
            "Koppa 0.8030659069064573\n",
            "MIOU: 0.7584027191968032\n"
          ]
        }
      ]
    },
    {
      "cell_type": "markdown",
      "source": [
        "# Testing ENet"
      ],
      "metadata": {
        "id": "x5g1Dyrl5hnu"
      }
    },
    {
      "cell_type": "code",
      "source": [
        "accuracy, f1, koppa, miou = test(model,test_dataloader)\n",
        "print('accuracy:',accuracy)\n",
        "print('f1 score:',f1)\n",
        "print('Koppa',koppa)\n",
        "print('MIOU:',miou)"
      ],
      "metadata": {
        "id": "SMXYvVojFS8M",
        "colab": {
          "base_uri": "https://localhost:8080/"
        },
        "outputId": "291974e3-c5e8-4f44-f70f-adf3bc9429e8"
      },
      "execution_count": null,
      "outputs": [
        {
          "output_type": "stream",
          "name": "stdout",
          "text": [
            "accuracy: 0.7861962042914497\n",
            "f1 score: 0.7908785612883183\n",
            "Koppa 0.6369162405945048\n",
            "MIOU: 0.6143507476956827\n"
          ]
        }
      ]
    },
    {
      "cell_type": "markdown",
      "source": [
        "# Testing simple TransUNet"
      ],
      "metadata": {
        "id": "O_-cmROJ5lan"
      }
    },
    {
      "cell_type": "code",
      "source": [
        "accuracy, f1, koppa, miou = test(simple_transunet,test_dataloader)\n",
        "print('accuracy:',accuracy)\n",
        "print('f1 score:',f1)\n",
        "print('Koppa',koppa)\n",
        "print('MIOU:',miou)"
      ],
      "metadata": {
        "colab": {
          "base_uri": "https://localhost:8080/"
        },
        "id": "mD2Clu7Z5nPM",
        "outputId": "f1132d9c-99a9-4e28-dd0c-c7b22a767621"
      },
      "execution_count": null,
      "outputs": [
        {
          "output_type": "stream",
          "name": "stdout",
          "text": [
            "accuracy: 0.8895369164737654\n",
            "f1 score: 0.8900488022009336\n",
            "Koppa 0.8012370315359292\n",
            "MIOU: 0.7609362656663072\n"
          ]
        }
      ]
    },
    {
      "cell_type": "markdown",
      "source": [
        "# Testing finetuned TransUNet"
      ],
      "metadata": {
        "id": "xWzU8Bi85omE"
      }
    },
    {
      "cell_type": "code",
      "source": [
        "accuracy, f1, koppa, miou = test(finetuned_transunet,test_dataloader)\n",
        "print('accuracy:',accuracy)\n",
        "print('f1 score:',f1)\n",
        "print('Koppa',koppa)\n",
        "print('MIOU:',miou)"
      ],
      "metadata": {
        "colab": {
          "base_uri": "https://localhost:8080/"
        },
        "id": "98on4_E-5qY6",
        "outputId": "dbd2bfc1-1873-4d11-ae76-f4ee031cf55b"
      },
      "execution_count": null,
      "outputs": [
        {
          "output_type": "stream",
          "name": "stdout",
          "text": [
            "accuracy: 0.8915312967182677\n",
            "f1 score: 0.8931183696295653\n",
            "Koppa 0.8083758782969621\n",
            "MIOU: 0.7622924716658851\n"
          ]
        }
      ]
    },
    {
      "cell_type": "markdown",
      "source": [
        "# Testing adversarial TransUNet"
      ],
      "metadata": {
        "id": "rZfG0xwq5rLu"
      }
    },
    {
      "cell_type": "code",
      "source": [
        "accuracy, f1, koppa, miou = test(adversarial_transunet,test_dataloader)\n",
        "print('accuracy:',accuracy)\n",
        "print('f1 score:',f1)\n",
        "print('Koppa',koppa)\n",
        "print('MIOU:',miou)"
      ],
      "metadata": {
        "colab": {
          "base_uri": "https://localhost:8080/"
        },
        "id": "zbIPVjDm5uR-",
        "outputId": "d01bcef0-92ca-4442-a36e-98dc90f8e027"
      },
      "execution_count": null,
      "outputs": [
        {
          "output_type": "stream",
          "name": "stdout",
          "text": [
            "accuracy: 0.8708632198380835\n",
            "f1 score: 0.8732680313092307\n",
            "Koppa 0.7720907281791463\n",
            "MIOU: 0.7300969604235625\n"
          ]
        }
      ]
    },
    {
      "cell_type": "markdown",
      "source": [
        "#Testig model trained on RGB channels"
      ],
      "metadata": {
        "id": "SjHgyZotnX2l"
      }
    },
    {
      "cell_type": "code",
      "source": [
        "accuracy, f1, koppa, miou = test(model,test_dataloader)\n",
        "print('accuracy:',accuracy)\n",
        "print('f1 score:',f1)\n",
        "print('Koppa',koppa)\n",
        "print('MIOU:',miou)"
      ],
      "metadata": {
        "colab": {
          "base_uri": "https://localhost:8080/"
        },
        "outputId": "46097fc9-ac02-425f-b3d3-9c87ee9f325c",
        "id": "HSdu3kElnb7v"
      },
      "execution_count": null,
      "outputs": [
        {
          "output_type": "stream",
          "name": "stdout",
          "text": [
            "accuracy: 0.8922978624885466\n",
            "f1 score: 0.8919412523166158\n",
            "Koppa 0.8038286920365878\n",
            "MIOU: 0.7590650291372357\n"
          ]
        }
      ]
    }
  ]
}