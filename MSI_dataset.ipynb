{
  "nbformat": 4,
  "nbformat_minor": 0,
  "metadata": {
    "colab": {
      "provenance": [],
      "include_colab_link": true
    },
    "kernelspec": {
      "name": "python3",
      "display_name": "Python 3"
    },
    "language_info": {
      "name": "python"
    }
  },
  "cells": [
    {
      "cell_type": "markdown",
      "metadata": {
        "id": "view-in-github",
        "colab_type": "text"
      },
      "source": [
        "<a href=\"https://colab.research.google.com/github/taravatp/Multi_Spectral_Image_Segmentation/blob/main/MSI_dataset.ipynb\" target=\"_parent\"><img src=\"https://colab.research.google.com/assets/colab-badge.svg\" alt=\"Open In Colab\"/></a>"
      ]
    },
    {
      "cell_type": "code",
      "source": [
        "# cd /content/drive/MyDrive/Vision_Impulse_Task"
      ],
      "metadata": {
        "id": "fL6A1arjM4Pg"
      },
      "execution_count": null,
      "outputs": []
    },
    {
      "cell_type": "code",
      "source": [
        "!pip install rasterio"
      ],
      "metadata": {
        "id": "xWIl0LvEAeas"
      },
      "execution_count": null,
      "outputs": []
    },
    {
      "cell_type": "code",
      "source": [
        "import numpy as np\n",
        "import cv2\n",
        "import matplotlib.pyplot as plt\n",
        "from sklearn.model_selection import train_test_split\n",
        "from skimage import io\n",
        "import rasterio\n",
        "\n",
        "import torch\n",
        "from torch.utils.data import Dataset\n",
        "\n",
        "import pickle"
      ],
      "metadata": {
        "id": "otFtM1m9I561"
      },
      "execution_count": null,
      "outputs": []
    },
    {
      "cell_type": "code",
      "source": [
        "class MSI_data(Dataset):\n",
        "\n",
        "  def __init__(self,flag='train',multispectral=True):\n",
        "    super(MSI_data, self).__init__()\n",
        "\n",
        "    self.multispectral =multispectral\n",
        "\n",
        "    with open('inputs.pkl','rb') as open_file:\n",
        "      images = pickle.load(open_file)\n",
        "\n",
        "    with open('targets.pkl','rb') as open_file:\n",
        "      masks = pickle.load(open_file)\n",
        "\n",
        "    train_image_paths, rest_image_paths, train_mask_paths, rest_mask_paths = train_test_split(images,masks,test_size=0.2,random_state=42)\n",
        "    test_image_paths, validation_image_paths, test_mask_paths, validation_mask_paths = train_test_split(rest_image_paths,rest_mask_paths, test_size=0.5, random_state=42)\n",
        "\n",
        "    if flag == 'train':\n",
        "      self.images = train_image_paths\n",
        "      self.masks = train_mask_paths\n",
        "    elif flag == 'validation':\n",
        "      self.images = validation_image_paths\n",
        "      self.masks = validation_mask_paths\n",
        "    elif flag == 'test':\n",
        "      self.images = test_image_paths\n",
        "      self.masks = test_mask_paths\n",
        "\n",
        "  def __len__(self):\n",
        "    return len(self.images)\n",
        "\n",
        "  def __getitem__(self, index):\n",
        "    image_path = self.images[index]\n",
        "    mask_path = self.masks[index]\n",
        "\n",
        "    image = rasterio.open(image_path).read()\n",
        "    mask = rasterio.open(mask_path).read()\n",
        "\n",
        "    if self.multispectral == False:\n",
        "      image = image[2:5,:,:] #fetching just the RGB channels\n",
        "\n",
        "    #performin band-wise min-max normalization\n",
        "    image = (image - np.min(image)) / (np.max(image) - np.min(image))\n",
        "\n",
        "    mask[mask == 255] = 2 #cleaning\n",
        "\n",
        "    image = torch.tensor(image.astype(np.float32))\n",
        "    mask = torch.tensor(mask.astype(np.float32))\n",
        "\n",
        "    return image, mask"
      ],
      "metadata": {
        "id": "ZRhjeGpGJJx3"
      },
      "execution_count": null,
      "outputs": []
    },
    {
      "cell_type": "code",
      "source": [
        "if __name__ == \"__main__\":\n",
        "  train_data = MSI_data(flag='train',multispectral=False)\n",
        "  validation_data = MSI_data(flag='validation',multispectral=False)\n",
        "  test_data = MSI_data(flag='test',multispectral=False)\n",
        "  BATCHSIZE = 32\n",
        "\n",
        "  train_dataloader = torch.utils.data.DataLoader(train_data,batch_size=BATCHSIZE,shuffle=True)\n",
        "  validation_dataloader = torch.utils.data.DataLoader(validation_data,batch_size=BATCHSIZE,shuffle=True)\n",
        "  test_dataloader = torch.utils.data.DataLoader(test_data,batch_size=BATCHSIZE,shuffle=True)\n",
        "\n",
        "  image, mask = train_data[0]\n",
        "  print('number of training samples:',len(train_dataloader)*BATCHSIZE)\n",
        "  print('number of validation samples',len(validation_dataloader)*BATCHSIZE)\n",
        "  print('number of test samples',len(test_dataloader)*BATCHSIZE)"
      ],
      "metadata": {
        "colab": {
          "base_uri": "https://localhost:8080/"
        },
        "id": "HA6dAsruMuPN",
        "outputId": "f9df89ec-a4ea-4de7-c244-038f14c98866"
      },
      "execution_count": null,
      "outputs": [
        {
          "output_type": "stream",
          "name": "stdout",
          "text": [
            "number of training samples: 4576\n",
            "number of validation samples 576\n",
            "number of test samples 576\n"
          ]
        }
      ]
    }
  ]
}