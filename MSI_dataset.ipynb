{
  "nbformat": 4,
  "nbformat_minor": 0,
  "metadata": {
    "colab": {
      "provenance": [],
      "include_colab_link": true
    },
    "kernelspec": {
      "name": "python3",
      "display_name": "Python 3"
    },
    "language_info": {
      "name": "python"
    }
  },
  "cells": [
    {
      "cell_type": "markdown",
      "metadata": {
        "id": "view-in-github",
        "colab_type": "text"
      },
      "source": [
        "<a href=\"https://colab.research.google.com/github/taravatp/Multi_Spectral_Image_Segmentation/blob/main/MSI_dataset.ipynb\" target=\"_parent\"><img src=\"https://colab.research.google.com/assets/colab-badge.svg\" alt=\"Open In Colab\"/></a>"
      ]
    },
    {
      "cell_type": "code",
      "source": [
        "# from google.colab import drive\n",
        "# drive.mount('/content/drive')"
      ],
      "metadata": {
        "colab": {
          "base_uri": "https://localhost:8080/"
        },
        "id": "K3jucx_LaFp1",
        "outputId": "16934735-a368-4adb-b1da-ffd4779c14d1"
      },
      "execution_count": null,
      "outputs": [
        {
          "output_type": "stream",
          "name": "stdout",
          "text": [
            "Mounted at /content/drive\n"
          ]
        }
      ]
    },
    {
      "cell_type": "code",
      "source": [
        "# cd /content/drive/MyDrive/Vision_Impulse_Task"
      ],
      "metadata": {
        "colab": {
          "base_uri": "https://localhost:8080/"
        },
        "id": "fL6A1arjM4Pg",
        "outputId": "927a7205-e210-4bbc-d4ad-03971425d8b5"
      },
      "execution_count": null,
      "outputs": [
        {
          "output_type": "stream",
          "name": "stdout",
          "text": [
            "/content/drive/MyDrive/Vision_Impulse_Task\n"
          ]
        }
      ]
    },
    {
      "cell_type": "code",
      "source": [
        "!pip install rasterio"
      ],
      "metadata": {
        "id": "xWIl0LvEAeas",
        "colab": {
          "base_uri": "https://localhost:8080/"
        },
        "outputId": "9206d781-1bc3-417f-f3c2-145212930254"
      },
      "execution_count": null,
      "outputs": [
        {
          "output_type": "stream",
          "name": "stdout",
          "text": [
            "Collecting rasterio\n",
            "  Downloading rasterio-1.3.9-cp310-cp310-manylinux2014_x86_64.whl (20.6 MB)\n",
            "\u001b[?25l     \u001b[90m━━━━━━━━━━━━━━━━━━━━━━━━━━━━━━━━━━━━━━━━\u001b[0m \u001b[32m0.0/20.6 MB\u001b[0m \u001b[31m?\u001b[0m eta \u001b[36m-:--:--\u001b[0m\r\u001b[2K     \u001b[91m━\u001b[0m\u001b[90m╺\u001b[0m\u001b[90m━━━━━━━━━━━━━━━━━━━━━━━━━━━━━━━━━━━━━━\u001b[0m \u001b[32m0.5/20.6 MB\u001b[0m \u001b[31m16.1 MB/s\u001b[0m eta \u001b[36m0:00:02\u001b[0m\r\u001b[2K     \u001b[91m━━━━━━━━━━━━\u001b[0m\u001b[90m╺\u001b[0m\u001b[90m━━━━━━━━━━━━━━━━━━━━━━━━━━━\u001b[0m \u001b[32m6.3/20.6 MB\u001b[0m \u001b[31m92.7 MB/s\u001b[0m eta \u001b[36m0:00:01\u001b[0m\r\u001b[2K     \u001b[91m━━━━━━━━━━━━━━━━━━━━━━━━━━━\u001b[0m\u001b[91m╸\u001b[0m\u001b[90m━━━━━━━━━━━━\u001b[0m \u001b[32m14.3/20.6 MB\u001b[0m \u001b[31m225.3 MB/s\u001b[0m eta \u001b[36m0:00:01\u001b[0m\r\u001b[2K     \u001b[91m━━━━━━━━━━━━━━━━━━━━━━━━━━━━━━━━━━━━━━━\u001b[0m\u001b[91m╸\u001b[0m \u001b[32m20.6/20.6 MB\u001b[0m \u001b[31m249.4 MB/s\u001b[0m eta \u001b[36m0:00:01\u001b[0m\r\u001b[2K     \u001b[91m━━━━━━━━━━━━━━━━━━━━━━━━━━━━━━━━━━━━━━━\u001b[0m\u001b[91m╸\u001b[0m \u001b[32m20.6/20.6 MB\u001b[0m \u001b[31m249.4 MB/s\u001b[0m eta \u001b[36m0:00:01\u001b[0m\r\u001b[2K     \u001b[90m━━━━━━━━━━━━━━━━━━━━━━━━━━━━━━━━━━━━━━━━\u001b[0m \u001b[32m20.6/20.6 MB\u001b[0m \u001b[31m101.4 MB/s\u001b[0m eta \u001b[36m0:00:00\u001b[0m\n",
            "\u001b[?25hCollecting affine (from rasterio)\n",
            "  Downloading affine-2.4.0-py3-none-any.whl (15 kB)\n",
            "Requirement already satisfied: attrs in /usr/local/lib/python3.10/dist-packages (from rasterio) (23.1.0)\n",
            "Requirement already satisfied: certifi in /usr/local/lib/python3.10/dist-packages (from rasterio) (2023.7.22)\n",
            "Requirement already satisfied: click>=4.0 in /usr/local/lib/python3.10/dist-packages (from rasterio) (8.1.7)\n",
            "Requirement already satisfied: cligj>=0.5 in /usr/local/lib/python3.10/dist-packages (from rasterio) (0.7.2)\n",
            "Requirement already satisfied: numpy in /usr/local/lib/python3.10/dist-packages (from rasterio) (1.23.5)\n",
            "Collecting snuggs>=1.4.1 (from rasterio)\n",
            "  Downloading snuggs-1.4.7-py3-none-any.whl (5.4 kB)\n",
            "Requirement already satisfied: click-plugins in /usr/local/lib/python3.10/dist-packages (from rasterio) (1.1.1)\n",
            "Requirement already satisfied: setuptools in /usr/local/lib/python3.10/dist-packages (from rasterio) (67.7.2)\n",
            "Requirement already satisfied: pyparsing>=2.1.6 in /usr/local/lib/python3.10/dist-packages (from snuggs>=1.4.1->rasterio) (3.1.1)\n",
            "Installing collected packages: snuggs, affine, rasterio\n",
            "Successfully installed affine-2.4.0 rasterio-1.3.9 snuggs-1.4.7\n"
          ]
        }
      ]
    },
    {
      "cell_type": "code",
      "source": [
        "import numpy as np\n",
        "import cv2\n",
        "import matplotlib.pyplot as plt\n",
        "from sklearn.model_selection import train_test_split\n",
        "from skimage import io\n",
        "import rasterio\n",
        "\n",
        "import torch\n",
        "from torch.utils.data import Dataset\n",
        "\n",
        "import pickle"
      ],
      "metadata": {
        "id": "otFtM1m9I561"
      },
      "execution_count": null,
      "outputs": []
    },
    {
      "cell_type": "code",
      "source": [
        "class MSI_data(Dataset):\n",
        "\n",
        "  def __init__(self,flag='train'):\n",
        "    super(MSI_data, self).__init__()\n",
        "\n",
        "    with open('inputs.pkl','rb') as open_file:\n",
        "      images = pickle.load(open_file)\n",
        "\n",
        "    with open('targets.pkl','rb') as open_file:\n",
        "      masks = pickle.load(open_file)\n",
        "\n",
        "    train_image_paths, rest_image_paths, train_mask_paths, rest_mask_paths = train_test_split(images,masks,test_size=0.2,random_state=42)\n",
        "    test_image_paths, validation_image_paths, test_mask_paths, validation_mask_paths = train_test_split(rest_image_paths,rest_mask_paths, test_size=0.5, random_state=42)\n",
        "\n",
        "    if flag == 'train':\n",
        "      self.images = train_image_paths\n",
        "      self.masks = train_mask_paths\n",
        "    elif flag == 'validation':\n",
        "      self.images = validation_image_paths\n",
        "      self.masks = validation_mask_paths\n",
        "    elif flag == 'test':\n",
        "      self.images = test_image_paths\n",
        "      self.masks = test_mask_paths\n",
        "\n",
        "  def __len__(self):\n",
        "    return len(self.images)\n",
        "\n",
        "  def __getitem__(self, index):\n",
        "    image_path = self.images[index]\n",
        "    mask_path = self.masks[index]\n",
        "\n",
        "    image = rasterio.open(image_path).read()\n",
        "    mask = rasterio.open(mask_path).read()\n",
        "\n",
        "    #performin band-wise min-max normalization\n",
        "    image = (image - np.min(image)) / (np.max(image) - np.min(image))\n",
        "\n",
        "\n",
        "    mask[mask == 255] = 2 #cleaning\n",
        "\n",
        "    image = torch.tensor(image.astype(np.float32))\n",
        "    mask = torch.tensor(mask.astype(np.float32))\n",
        "\n",
        "    return image, mask"
      ],
      "metadata": {
        "id": "ZRhjeGpGJJx3"
      },
      "execution_count": null,
      "outputs": []
    },
    {
      "cell_type": "code",
      "source": [
        "if __name__ == \"__main__\":\n",
        "  train_data = MSI_data(flag='train')\n",
        "  validation_data = MSI_data(flag='validation')\n",
        "  test_data = MSI_data(flag='test')\n",
        "  BATCHSIZE = 32\n",
        "\n",
        "  train_dataloader = torch.utils.data.DataLoader(train_data,batch_size=BATCHSIZE,shuffle=True)\n",
        "  validation_dataloader = torch.utils.data.DataLoader(validation_data,batch_size=BATCHSIZE,shuffle=True)\n",
        "  test_dataloader = torch.utils.data.DataLoader(test_data,batch_size=BATCHSIZE,shuffle=True)\n",
        "\n",
        "  print('number of training samples:',len(train_dataloader)*BATCHSIZE)\n",
        "  print('number of validation samples',len(validation_dataloader)*BATCHSIZE)\n",
        "  print('number of test samples',len(test_dataloader)*BATCHSIZE)"
      ],
      "metadata": {
        "colab": {
          "base_uri": "https://localhost:8080/"
        },
        "id": "HA6dAsruMuPN",
        "outputId": "357f6f6c-1f45-4664-bdf8-603910b17b94"
      },
      "execution_count": null,
      "outputs": [
        {
          "output_type": "stream",
          "name": "stdout",
          "text": [
            "number of training samples: 4576\n",
            "number of validation samples 576\n",
            "number of test samples 576\n"
          ]
        }
      ]
    }
  ]
}