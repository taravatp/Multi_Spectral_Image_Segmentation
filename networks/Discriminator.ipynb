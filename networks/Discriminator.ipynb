{
  "nbformat": 4,
  "nbformat_minor": 0,
  "metadata": {
    "colab": {
      "provenance": [],
      "include_colab_link": true
    },
    "kernelspec": {
      "name": "python3",
      "display_name": "Python 3"
    },
    "language_info": {
      "name": "python"
    }
  },
  "cells": [
    {
      "cell_type": "markdown",
      "metadata": {
        "id": "view-in-github",
        "colab_type": "text"
      },
      "source": [
        "<a href=\"https://colab.research.google.com/github/taravatp/Multi_Spectral_Image_Segmentation/blob/main/networks/Discriminator.ipynb\" target=\"_parent\"><img src=\"https://colab.research.google.com/assets/colab-badge.svg\" alt=\"Open In Colab\"/></a>"
      ]
    },
    {
      "cell_type": "code",
      "execution_count": null,
      "metadata": {
        "id": "dzY3LTlQPln7"
      },
      "outputs": [],
      "source": [
        "import torch\n",
        "import torch.nn as nn\n",
        "import math\n",
        "import numpy as np"
      ]
    },
    {
      "cell_type": "code",
      "source": [
        "def convolution_module(in_channels,out_channels):\n",
        "  conv = nn.Sequential(\n",
        "      nn.Conv2d(in_channels,out_channels,kernel_size=3, padding=1, bias=False),\n",
        "      nn.BatchNorm2d(out_channels),\n",
        "      nn.ReLU(inplace=True),\n",
        "      nn.Conv2d(out_channels,out_channels,kernel_size=3, padding=1, bias=False),\n",
        "      nn.BatchNorm2d(out_channels),\n",
        "      nn.ReLU(inplace=True)\n",
        "  )\n",
        "  return conv"
      ],
      "metadata": {
        "id": "ey77uiRfPqUT"
      },
      "execution_count": null,
      "outputs": []
    },
    {
      "cell_type": "code",
      "source": [
        "class discriminator(nn.Module):\n",
        "\n",
        "  def __init__(self, in_channels=13, feat_channels=[32, 64, 128, 256]):\n",
        "\n",
        "    super(discriminator, self).__init__()\n",
        "\n",
        "    # Encoder convolutions\n",
        "    self.down_conv1 = convolution_module(in_channels,32)\n",
        "    self.down_conv2 = convolution_module(32,64)\n",
        "    self.down_conv3 = convolution_module(64,128)\n",
        "    self.down_conv4 = convolution_module(128,256)\n",
        "    self.max_pool = nn.MaxPool2d(kernel_size=2, stride=2)\n",
        "    self.flat = nn.Flatten()\n",
        "    self.mlp1 = nn.Linear(16384,128)\n",
        "    self.mlp2 = nn.Linear(128,1)\n",
        "    self.activation = nn.Sigmoid()\n",
        "\n",
        "  def forward(self,img_A,img_B):\n",
        "    x = torch.cat((img_A, img_B), 1)\n",
        "    x = self.max_pool(self.down_conv1(x))\n",
        "    x = self.max_pool(self.down_conv2(x))\n",
        "    x = self.max_pool(self.down_conv3(x))\n",
        "    x = self.down_conv4(x)\n",
        "    x = self.flat(x)\n",
        "    x = self.mlp1(x)\n",
        "    x = self.mlp2(x)\n",
        "    x = self.activation(x)\n",
        "\n",
        "    return x"
      ],
      "metadata": {
        "id": "Wr5-d5nRPr1T"
      },
      "execution_count": null,
      "outputs": []
    },
    {
      "cell_type": "code",
      "source": [
        "if __name__ == \"__main__\":\n",
        "\n",
        "  img_A = torch.rand((8,12,64,64))\n",
        "  img_B = torch.rand((8,1,64,64))\n",
        "  model = discriminator()\n",
        "  output = model(img_A,img_B)\n",
        "  print('output:',output.shape)"
      ],
      "metadata": {
        "colab": {
          "base_uri": "https://localhost:8080/"
        },
        "id": "1wFhS-V9P5_Z",
        "outputId": "9bf18cc5-fb79-4293-f8da-09d0a9e2489b"
      },
      "execution_count": null,
      "outputs": [
        {
          "output_type": "stream",
          "name": "stdout",
          "text": [
            "output: torch.Size([8, 1])\n"
          ]
        }
      ]
    }
  ]
}