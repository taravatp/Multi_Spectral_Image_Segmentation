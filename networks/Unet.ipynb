{
  "nbformat": 4,
  "nbformat_minor": 0,
  "metadata": {
    "colab": {
      "provenance": [],
      "authorship_tag": "ABX9TyP640d/eTXKKgEvG3/QyWp+",
      "include_colab_link": true
    },
    "kernelspec": {
      "name": "python3",
      "display_name": "Python 3"
    },
    "language_info": {
      "name": "python"
    }
  },
  "cells": [
    {
      "cell_type": "markdown",
      "metadata": {
        "id": "view-in-github",
        "colab_type": "text"
      },
      "source": [
        "<a href=\"https://colab.research.google.com/github/taravatp/Multi_Spectral_Image_Segmentation/blob/main/networks/Unet.ipynb\" target=\"_parent\"><img src=\"https://colab.research.google.com/assets/colab-badge.svg\" alt=\"Open In Colab\"/></a>"
      ]
    },
    {
      "cell_type": "code",
      "source": [
        "import torch\n",
        "import torch.nn as nn\n",
        "import math\n",
        "import numpy as np"
      ],
      "metadata": {
        "id": "vDTFcm8_HKSY"
      },
      "execution_count": null,
      "outputs": []
    },
    {
      "cell_type": "code",
      "execution_count": null,
      "metadata": {
        "id": "6vN-H3GYHFy-"
      },
      "outputs": [],
      "source": [
        "def convolution_module(in_channels,out_channels):\n",
        "  conv = nn.Sequential(\n",
        "      nn.Conv2d(in_channels,out_channels,kernel_size=3, padding=1, bias=False),\n",
        "      nn.BatchNorm2d(out_channels),\n",
        "      nn.ReLU(inplace=True),\n",
        "      nn.Conv2d(out_channels,out_channels,kernel_size=3, padding=1, bias=False),\n",
        "      nn.BatchNorm2d(out_channels),\n",
        "      nn.ReLU(inplace=True)\n",
        "  )\n",
        "  return conv"
      ]
    },
    {
      "cell_type": "code",
      "source": [
        "class CNN_encoder(nn.Module):\n",
        "\n",
        "  def __init__(self, in_channels=12, feat_channels=[32, 64, 128, 256]):\n",
        "\n",
        "    super(CNN_encoder, self).__init__()\n",
        "\n",
        "    # Encoder convolutions\n",
        "    self.down_conv1 = convolution_module(in_channels,32)\n",
        "    self.down_conv2 = convolution_module(32,64)\n",
        "    self.down_conv3 = convolution_module(64,128)\n",
        "    self.down_conv4 = convolution_module(128,256)\n",
        "    self.max_pool = nn.MaxPool2d(kernel_size=2, stride=2)\n",
        "    self.out_channels = 256\n",
        "\n",
        "  def forward(self,x):\n",
        "\n",
        "    x1 = self.down_conv1(x)\n",
        "    x_low1 = self.max_pool(x1)\n",
        "\n",
        "    x2 = self.down_conv2(x_low1)\n",
        "    x_low2 = self.max_pool(x2)\n",
        "\n",
        "    x3 = self.down_conv3(x_low2)\n",
        "    x_low3 = self.max_pool(x3)\n",
        "\n",
        "    #The bottleneck\n",
        "    x4 = self.down_conv4(x_low3)\n",
        "\n",
        "    return x4,[x3,x2,x1]"
      ],
      "metadata": {
        "id": "u67eEAMYHMqN"
      },
      "execution_count": null,
      "outputs": []
    },
    {
      "cell_type": "code",
      "source": [
        "class CNN_decoder(nn.Module):\n",
        "\n",
        "  def __init__(self):\n",
        "    super(CNN_decoder,self).__init__()\n",
        "\n",
        "    self.upsample1 = nn.ConvTranspose2d(256, 128, kernel_size=2, stride=2)\n",
        "    self.conv1 = convolution_module(256, 128)\n",
        "\n",
        "    self.upsample2 = nn.ConvTranspose2d(128, 64, kernel_size=2, stride=2)\n",
        "    self.conv2 = convolution_module(128, 64)\n",
        "\n",
        "    self.upsample3 = nn.ConvTranspose2d(64, 32, kernel_size=2, stride=2)\n",
        "    self.conv3 = convolution_module(64, 32)\n",
        "\n",
        "    self.out = nn.Conv2d(32,3,kernel_size=1)\n",
        "\n",
        "  def crop_tensor(self,target_tensor,input_tensor):\n",
        "    target_tensor_size = target_tensor.size()[2]\n",
        "    input_tensor_size = input_tensor.size()[2]\n",
        "    delta = input_tensor_size - target_tensor_size\n",
        "    delta = delta // 2\n",
        "    cropped_tensor = input_tensor[:,:,delta:input_tensor_size-delta,delta:input_tensor_size-delta]\n",
        "    return cropped_tensor\n",
        "\n",
        "  def forward(self,x, features):\n",
        "\n",
        "    [x1,x2,x3] = features\n",
        "\n",
        "    x = self.upsample1(x)\n",
        "    y = self.crop_tensor(x,x1)\n",
        "    x = self.conv1(torch.cat([x,y],1))\n",
        "\n",
        "    x = self.upsample2(x)\n",
        "    y = self.crop_tensor(x,x2)\n",
        "    x = self.conv2(torch.cat([x,y],1))\n",
        "\n",
        "    x = self.upsample3(x)\n",
        "    y = self.crop_tensor(x,x3)\n",
        "    x = self.conv3(torch.cat([x,y],1))\n",
        "\n",
        "    x = self.out(x)\n",
        "\n",
        "    return x"
      ],
      "metadata": {
        "id": "Nt7mCiGwHTMU"
      },
      "execution_count": null,
      "outputs": []
    },
    {
      "cell_type": "code",
      "source": [
        "class unet(nn.Module):\n",
        "\n",
        "  def __init__(self):\n",
        "    super(unet, self).__init__()\n",
        "    self.encoder = CNN_encoder()\n",
        "    self.decoder = CNN_decoder()\n",
        "\n",
        "  def forward(self,x):\n",
        "    x,features = self.encoder(x)\n",
        "    x = self.decoder(x,features)\n",
        "    return x"
      ],
      "metadata": {
        "id": "ea8vIyBQIVaK"
      },
      "execution_count": null,
      "outputs": []
    },
    {
      "cell_type": "code",
      "source": [
        "if __name__ == \"__main__\":\n",
        "\n",
        "  image = torch.rand((8,12,64,64))\n",
        "  model = unet()\n",
        "  output = model(image)\n",
        "  print('output:',output.shape)"
      ],
      "metadata": {
        "colab": {
          "base_uri": "https://localhost:8080/"
        },
        "id": "amwr6qcgIMK0",
        "outputId": "ae273b08-8f89-486b-c840-1c4bbdd5c47b"
      },
      "execution_count": null,
      "outputs": [
        {
          "output_type": "stream",
          "name": "stdout",
          "text": [
            "output: torch.Size([8, 3, 64, 64])\n"
          ]
        }
      ]
    }
  ]
}